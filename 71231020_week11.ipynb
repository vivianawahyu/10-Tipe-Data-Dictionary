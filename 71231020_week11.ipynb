{
  "nbformat": 4,
  "nbformat_minor": 0,
  "metadata": {
    "colab": {
      "provenance": []
    },
    "kernelspec": {
      "name": "python3",
      "display_name": "Python 3"
    },
    "language_info": {
      "name": "python"
    }
  },
  "cells": [
    {
      "cell_type": "markdown",
      "source": [
        "soal 1"
      ],
      "metadata": {
        "id": "U9r8h_Gs2YFe"
      }
    },
    {
      "cell_type": "code",
      "execution_count": 1,
      "metadata": {
        "colab": {
          "base_uri": "https://localhost:8080/"
        },
        "id": "s9A4_24V2Vre",
        "outputId": "4d47231f-d615-4027-bafd-aef7daa874fd"
      },
      "outputs": [
        {
          "output_type": "stream",
          "name": "stdout",
          "text": [
            "key value item\n",
            "1 10 1\n",
            "2 20 2\n",
            "3 30 3\n",
            "4 40 4\n",
            "5 50 5\n",
            "6 60 6\n"
          ]
        }
      ],
      "source": [
        "def nilai(dictionary):\n",
        "    print(\"key value item\")\n",
        "    for key, value in dictionary.items():\n",
        "        print(key, value, key)\n",
        "\n",
        "mydictionary = {1: 10, 2: 20, 3: 30, 4: 40, 5: 50, 6: 60}\n",
        "nilai(mydictionary)\n"
      ]
    },
    {
      "cell_type": "markdown",
      "source": [
        "soal 2"
      ],
      "metadata": {
        "id": "YuSFUlOi2hlJ"
      }
    },
    {
      "cell_type": "code",
      "source": [
        "List_a = ['red', 'green', 'blue']\n",
        "List_b = ['#FF0000','#008000', '#0000FF']\n",
        "\n",
        "list_baru = dict(sorted(zip(List_a, List_b)))\n",
        "print(list_baru)\n"
      ],
      "metadata": {
        "colab": {
          "base_uri": "https://localhost:8080/"
        },
        "id": "pqX6kZvS2ihd",
        "outputId": "960dc6fc-9d87-444f-bc44-0194443ef6d2"
      },
      "execution_count": 2,
      "outputs": [
        {
          "output_type": "stream",
          "name": "stdout",
          "text": [
            "{'blue': '#0000FF', 'green': '#008000', 'red': '#FF0000'}\n"
          ]
        }
      ]
    },
    {
      "cell_type": "markdown",
      "source": [
        "soal 3"
      ],
      "metadata": {
        "id": "qcLA3g702lhD"
      }
    },
    {
      "cell_type": "code",
      "source": [
        "file_name = input(\"masukkan nama file anda: \")\n",
        "\n",
        "try:\n",
        "    with open(file_name, 'r') as file:\n",
        "        pesan_email = {}\n",
        "        for baris in file:\n",
        "            if baris.startswith('From '):\n",
        "                kata = baris.split()\n",
        "                email = kata[1]\n",
        "                pesan_email[email] = pesan_email.get(email, 0) + 1\n",
        "\n",
        "    print(pesan_email)\n",
        "\n",
        "except FileNotFoundError:\n",
        "    print(\"File tidak dapat ditemukan.\")\n",
        "except Exception as e:\n",
        "    print(f\"Terjadi kesalahan: {e}\")\n"
      ],
      "metadata": {
        "id": "2MPJg3mw2mRU"
      },
      "execution_count": null,
      "outputs": []
    },
    {
      "cell_type": "markdown",
      "source": [
        "soal 4"
      ],
      "metadata": {
        "id": "8tzi6fNw2rBu"
      }
    },
    {
      "cell_type": "code",
      "source": [
        "file_name = input(\"masukkan nama file(.txt):\")\n",
        "try:\n",
        "    with open(file_name, 'r') as file:\n",
        "        pesan_domain = {}\n",
        "        for line in file:\n",
        "            if line.startswith('From '):\n",
        "                words = line.split()\n",
        "                email = words[1]\n",
        "                domain = email.split('@')[1]\n",
        "                pesan_domain[domain]= pesan_domain.get(domain, 0)+1\n",
        "\n",
        "\n",
        "    print(pesan_domain)\n",
        "except FileNotFoundError:\n",
        "    print(\"file tidak ditemukan\")\n"
      ],
      "metadata": {
        "id": "P8vKExIG2sWF"
      },
      "execution_count": null,
      "outputs": []
    }
  ]
}